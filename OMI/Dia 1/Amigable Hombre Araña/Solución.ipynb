{
 "cells": [
  {
   "cell_type": "markdown",
   "metadata": {},
   "source": [
    "# El amigable Hombre Araña.  Problema 1, día 1, OMI 2019.\n",
    "\n",
    "#### Documento de solución por César Cepeda (Mayo 2019)\n",
    "##### https://omegaup.com/arena/problem/OMI-2019-Spider-Man\n",
    "\n",
    "#### Solución\n",
    "\n",
    "Supongamos que Spiderman va a saludar a los empleados en un edificio de $j$ pisos con $i$ ventanas por piso empezando desde la esquina inferior izquierda. Dado que cada movimiento cuesta energía, es intuitivo que para maximizar el número de empleados a los que se saluda, Spiderman debe buscar un camino que no pase más de una vez por cada ventana. Supongamos un recorrido cualquiera, como el que se muestra en la figura\n",
    "\n",
    "<center><img src=\"./img/recorrido.png\"/></center>\n",
    "\n",
    "Para resolver el problema, es necesario hacer la siguiente observación:\n",
    "\n",
    "**Cada movimiento que Spiderman hace agrega una ventana (un empleado más) al recorrido,  si el edificio tiene $i \\times j$ ventanas entonces, para agregarlas todas, se requiere hacer exactamente $(i \\times j) - 1$ movimientos (ya que Spiderman parte de una ventana inicial que no tiene que ser agregada). Pero es importante notar, que esta cantidad de movimientos se mantiene constante sin importar si los movimientos son horizontales o verticales, depende de la cantidad de ventanas que se desean agregar al recorrido.**\n",
    "\n",
    "Como el número de movimientos requeridos es constante, entonces queremos usar los movimientos que gasten menos energía, ya sean verticales u horizontales. Finalmente podemos ver que haciendo recorridos en forma de **$S$** ya sea vertical u horizontal es posible recorrer cualquier edificio sin dejar ventanas sin visitar.\n",
    "\n",
    "De lo anterior se puede concluir que para maximizar los empleados a los que saluda, Spiderman debe recorrer el edificio haciendo recorrido en forma de **$S$** ya sea de forma vertical u horizontal que favorezca el movimiento con menor gasto de energía.\n",
    "\n",
    "Habiendo llegado a la conclusión anterior es factible implementar la solución.\n",
    "\n",
    "La solución que aquí se presenta inicializa las variables `primeraOpcion`, `segundaOpcion`, `largoNivel` y `totalNiveles` para indicar cuál tipo de movimiento es el preferido, cuántos movimientos seguidos se pueden hacer de este tipo antes de tener que hacer un movimiento de alto costo y cuál es el total de *niveles* que se puede avanzar de esta forma.\n",
    "\n",
    "Calcula todos los `nivelesCompletos` que puede avanzar de esta forma con la energía que tiene y finalmente calcula la cantidad de empleados que puede saludar en el último nivel.\n",
    "\n",
    "Se debe tener cuidado en el caso en el que la energía alcanza para saludar a todos los empleados ya que la solución podría pensar que puede saludar a más empleados de los que tiene el edificio. En el código se utiliza `std::min` para evitar esto.\n",
    "\n"
   ]
  },
  {
   "cell_type": "code",
   "execution_count": null,
   "metadata": {},
   "outputs": [],
   "source": [
    "# include <iostream>\n",
    "\n",
    "long long N, M, K, X, Y;\n",
    "long long primeraOpcion, segundaOpcion;\n",
    "long long largoNivel, costoNivel, totalNiveles, nivelesCompletos;\n",
    "long long energiaRestante, empleados;\n",
    "\n",
    "int main()\n",
    "{\n",
    "    std::cin >> N >> M >> K >> X >> Y;\n",
    "\n",
    "    if (X < Y){\n",
    "        primeraOpcion = X;\n",
    "        segundaOpcion = Y;\n",
    "        largoNivel = M;\n",
    "        totalNiveles = N;\n",
    "    }\n",
    "    else {\n",
    "        primeraOpcion = Y;\n",
    "        segundaOpcion = X;\n",
    "        largoNivel = N;\n",
    "        totalNiveles = M;\n",
    "    }\n",
    "\n",
    "    costoNivel = ((largoNivel - 1) * primeraOpcion) + segundaOpcion;\n",
    "    empleados = 1;\n",
    "    energiaRestante = K;\n",
    "\n",
    "    nivelesCompletos = std::min(energiaRestante / costoNivel, totalNiveles - 1);\n",
    "    empleados += nivelesCompletos * largoNivel;\n",
    "    energiaRestante -= nivelesCompletos * costoNivel;\n",
    "\n",
    "    empleados += std::min(largoNivel - 1, energiaRestante / primeraOpcion);\n",
    "\n",
    "    std::cout << empleados;\n",
    "    return 0;\n",
    "}\n"
   ]
  }
 ],
 "metadata": {
  "kernelspec": {
   "display_name": "Python 3",
   "language": "python",
   "name": "python3"
  },
  "language_info": {
   "codemirror_mode": {
    "name": "ipython",
    "version": 3
   },
   "file_extension": ".py",
   "mimetype": "text/x-python",
   "name": "python",
   "nbconvert_exporter": "python",
   "pygments_lexer": "ipython3",
   "version": "3.6.5"
  }
 },
 "nbformat": 4,
 "nbformat_minor": 2
}
