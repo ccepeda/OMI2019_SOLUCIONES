{
 "cells": [
  {
   "cell_type": "markdown",
   "metadata": {},
   "source": [
    "# El amigable Hombre Araña.  Problema 1, día 1, OMI 2019.\n",
    "\n",
    "#### Documento de solución por César Cepeda (Mayo 2019)\n",
    "##### https://omegaup.com/arena/problem/OMI-2019-Resistencia\n",
    "\n",
    "#### Solución\n",
    "Supongamos que $X$ es el número que queremos encontrar y que $\\{d_1, d_2, ..., d_n\\}$ los dígitos de $X$.\n",
    "\n",
    "El número que se obtiene partiendo de $X$ depende de la multiplicación de sus dígitos y como *el orden de los factores no altera el producto* la resistencia de $X$ es igual a la resistencia de un número formado por cualquier permutación de los dígitos de $X$.  Es decir, la resistencia del número $234$ es igual que la resistencia del número $324$ o que la del $423$.  Cómo se está buscando el menor número de todos, hay que reordenar los dígitos de $X$ de modo que los dígitos más pequeños vayan al inicio y en general para cualquier $i < j$, $d_i \\leq d_j$.\n",
    "\n",
    "Ahora, para poder buscar de forma eficiente es necesario hacer las siguientes observaciones:\n",
    "\n",
    "+ Si $X$ contiene un dígito $0$, entonces la multiplicación de sus dígitos será $0$ y su resistencia será $1$, por lo tanto si queremos un número con resistencia grande **$X$ no contiene ceros**.\n",
    "+ Si $X$ contiene un dígito $1$, ese dígito no altera la multiplicación y lo podemos eliminar, obteniendo un número con una cifra menos y por tanto menor, de modo que, **$X$ no contiene unos**.\n",
    "+ Si $X$ contiene dos dígitos $2$ al hacer la multiplicación $2 \\times 2 = 4$, por lo que podemos sutituir esos dos dígitos $2$ por un $4$ obteniendo un número con una cifra menos y por lo tanto menor, de modo que, **$X$ contiene a lo más un $2$**.\n",
    "+ Si $X$ contiene dos dígitos $3$ se pueden sustituir por un dígito $9$, por lo tanto, **$X$ contiene a lo más un $3$**.\n",
    "+ Si $X$ contiene dos dígitos $4$ se pueden sustituir por los dígitos $28$ y como $28 < 44$ se obtiene un número menor. Por lo tanto **$X$ contiene a lo más un dígito $4$**.\n",
    "+ Si $X$ contiene un dígito $5$ y cualquier dígito $par$ el número obtenido tendrá un $0$ ya que $2 \\times 5 = 10$ y la resistencia será corta. Si contiene sólo dígitos $impares$ entonces la multiplicación terminará en $5$ y eventualmente se llegará a tener un dígito par en el número que hará que la resistencia termine.  Por lo tanto **No es deseable que $X$ contenga un dígito $5$**.\n",
    "+ Si $X$ contiene dos dígitos $6$ se pueden sustituir por los dígitos $49$ y como $49 < 66$ se obtiene un número ménor. Por lo tanto **$X$ contiene a lo más un dígito $6$**.\n",
    "+ Si $X$ contiene un dígito $2$ y un dígito $3$ se pueden sustituir por un dígito $6$ obteniendo un número con una cifra menos y por tanto menor.  Por lo tanto **$X$ contiene a lo más un $2$ o un $3$ pero no ambos**.\n",
    "+ Si $X$ contiene un dígito $2$ y un dígito $4$ se pueden sustituir por un dígito $8$. Por lo tanto **$X$ contiene a lo más un $2$ o un $4$ pero no ambos**.\n",
    "+ Si $X$ contiene un dígito $3$ y un dígito $4$ se pueden sustituir por los dígitos $26$ por lo tanto **$X$ contiene a lo más un dígito $3$ o un $4$ pero no ambos**.\n",
    "+ Si $X$ contiene un dígito $3$ y un dígito $6$ se pueden sustituir por los dígitos $29$ por lo tanto **$X$ contiene a lo más un dígito $3$ o un $6$ pero no ambos**.\n",
    "+ Si $X$ contiene un dígito $4$ y un dígito $6$ se pueden sustituir por los dígitos $38$ por lo tanto **$X$ contiene a lo más un dígito $4$ o un $6$ pero no ambos**.\n",
    "\n",
    "Basados en las observaciones anteriores obtenemos que $X$ tiene:\n",
    "\n",
    "+ Cualquier cantidad de $7$s.\n",
    "+ Cualquier cantidad de $8$s.\n",
    "+ Cualquier cantidad de $9$s.\n",
    "+ A lo más una de las siguientes opciones:\n",
    " + Un $2$\n",
    " + Un $3$\n",
    " + Un $4$\n",
    " + Un $6$\n",
    " + Un $26$\n",
    " \n",
    "Finalmente vemos que la cantidad de números que existen con estas características de $1,000$ dígitos o menos son $2^5 \\binom{1003}{3}$ que es un poco más de 5 mil millones.\n",
    "\n",
    "Hay varias formas de implementar la generación de estos números de menor a mayor así como el cálculo de la resistencia. El alumno debería implementarlas asegurándose de que imprime los nuevos máximos de resistencia que va encontrando.  \n",
    "\n",
    "Con cualquier método de generación y cálculo el alumno encontrará en pocos segundos de ejecución el primer número con la mayor resistencia posible que es el $277777788888899$\n",
    "\n",
    "\n",
    "\n",
    "\n"
   ]
  }
 ],
 "metadata": {
  "kernelspec": {
   "display_name": "Python 3",
   "language": "python",
   "name": "python3"
  },
  "language_info": {
   "codemirror_mode": {
    "name": "ipython",
    "version": 3
   },
   "file_extension": ".py",
   "mimetype": "text/x-python",
   "name": "python",
   "nbconvert_exporter": "python",
   "pygments_lexer": "ipython3",
   "version": "3.6.5"
  }
 },
 "nbformat": 4,
 "nbformat_minor": 2
}
